{
  "cells": [
    {
      "cell_type": "code",
      "execution_count": null,
      "metadata": {
        "id": "msGbJLSxurNl",
        "colab": {
          "base_uri": "https://localhost:8080/"
        },
        "outputId": "a80e1ff2-9f64-43e4-97d9-558195fe8a09"
      },
      "outputs": [
        {
          "output_type": "stream",
          "name": "stdout",
          "text": [
            "Mounted at /content/drive/\n"
          ]
        }
      ],
      "source": [
        "\n",
        "\n",
        "# import all data from my drive\n",
        "from google.colab import drive\n",
        "drive.mount('/content/drive/')\n",
        "\n",
        "path1 = '/content/drive/MyDrive/Data/male/85'\n",
        "#path1 = '/content/drive/MyDrive/Admit card/Extra/My'\n"
      ]
    },
    {
      "cell_type": "code",
      "execution_count": null,
      "metadata": {
        "id": "7yUki8e5gVSl"
      },
      "outputs": [],
      "source": [
        "download = \"/content/drive/MyDrive/Data/male/85_new\"\n",
        "#num_image = 500\n",
        "\n",
        "#epochs = 2500"
      ]
    },
    {
      "cell_type": "code",
      "execution_count": null,
      "metadata": {
        "id": "ceAiwjshzDLg"
      },
      "outputs": [],
      "source": [
        "import numpy as np\n",
        "import pandas as pd\n",
        "import matplotlib.pyplot as plt\n",
        "import os\n",
        "import cv2\n",
        "import imghdr\n",
        "from PIL import Image\n",
        "import time\n",
        "from IPython import display\n",
        "\n",
        "import tensorflow as tf\n",
        "from tensorflow import keras\n",
        "from tensorflow.keras import layers\n",
        "from keras.models import Sequential\n",
        "from keras.preprocessing.image import ImageDataGenerator\n",
        "from keras.utils import to_categorical\n",
        "from keras.models import load_model, save_model\n",
        "from sklearn.preprocessing import MinMaxScaler\n",
        "import warnings\n",
        "import random\n",
        "\n",
        "from sklearn.model_selection import train_test_split\n",
        "\n",
        "from keras.models import Sequential, Model\n",
        "from keras.layers import Input, Dense, Reshape, Flatten, Reshape, Activation, MaxPooling2D, BatchNormalization, Conv2D, Conv2DTranspose, LeakyReLU, Dropout, ZeroPadding2D, UpSampling2D\n",
        "from keras.optimizers import Adam"
      ]
    },
    {
      "cell_type": "code",
      "execution_count": null,
      "metadata": {
        "id": "G1ugjYjIEHok",
        "colab": {
          "base_uri": "https://localhost:8080/",
          "height": 71
        },
        "outputId": "4db9b2c1-61ae-4526-90c5-1860a79c4564"
      },
      "outputs": [
        {
          "output_type": "execute_result",
          "data": {
            "text/plain": [
              "'\\nimport numpy as np\\nfrom tensorflow.keras.datasets import mnist\\n\\n# Load the MNIST dataset\\n(x_train, y_train), (x_test, y_test) = mnist.load_data()\\n\\n# Extract only the images of 0 and their labels\\nimages = x_train[y_train == 0]\\nlabels = y_train[y_train == 0]\\n\\n# Print the shape of the images and labels arrays\\nprint(images.shape)\\nprint(labels.shape)\\n'"
            ],
            "application/vnd.google.colaboratory.intrinsic+json": {
              "type": "string"
            }
          },
          "metadata": {},
          "execution_count": 4
        }
      ],
      "source": [
        "'''\n",
        "import numpy as np\n",
        "from tensorflow.keras.datasets import mnist\n",
        "\n",
        "# Load the MNIST dataset\n",
        "(x_train, y_train), (x_test, y_test) = mnist.load_data()\n",
        "\n",
        "# Extract only the images of 0 and their labels\n",
        "images = x_train[y_train == 0]\n",
        "labels = y_train[y_train == 0]\n",
        "\n",
        "# Print the shape of the images and labels arrays\n",
        "print(images.shape)\n",
        "print(labels.shape)\n",
        "'''"
      ]
    },
    {
      "cell_type": "code",
      "execution_count": null,
      "metadata": {
        "id": "ptB1ewgpekTR"
      },
      "outputs": [],
      "source": [
        "folder = 0\n",
        "# Define the image size (in pixels)\n",
        "img_size = 28\n",
        "\n",
        "# Initialize the arrays to store the images and labels\n",
        "images = []\n",
        "labels = []\n",
        "\n",
        "# Loop through all the images in the folder\n",
        "for filename in os.listdir(path1):\n",
        "    # Get the label from the filename (assuming that the filename contains the label)\n",
        "    label = filename[folder]\n",
        "    #print(filename, label)\n",
        "\n",
        "    # Read the image and resize it to the desired size\n",
        "    img = cv2.imread(os.path.join(path1, filename))\n",
        "    img = cv2.resize(img, (img_size, img_size))\n",
        "\n",
        "    # Convert the image to grayscale and flatten it into a 1D array\n",
        "    img = cv2.cvtColor(img, cv2.COLOR_BGR2GRAY)\n",
        "    #img = img.flatten()\n",
        "\n",
        "    # Add the image and label to the arrays\n",
        "    images.append(img)\n",
        "    labels.append(label)\n",
        "\n",
        "# Convert the arrays to NumPy arrays\n",
        "images = np.array(images)\n",
        "labels = np.array(labels)"
      ]
    },
    {
      "cell_type": "code",
      "execution_count": null,
      "metadata": {
        "id": "SbV5IXwFgAjh",
        "colab": {
          "base_uri": "https://localhost:8080/"
        },
        "outputId": "77751885-d4b3-4b18-ab46-5291a46a2660"
      },
      "outputs": [
        {
          "output_type": "execute_result",
          "data": {
            "text/plain": [
              "array(['0', '0', '0', ..., '0', '0', '0'], dtype='<U1')"
            ]
          },
          "metadata": {},
          "execution_count": 6
        }
      ],
      "source": [
        "labels"
      ]
    },
    {
      "cell_type": "markdown",
      "metadata": {
        "id": "tBwzK_ho8110"
      },
      "source": []
    },
    {
      "cell_type": "code",
      "execution_count": null,
      "metadata": {
        "id": "-C6JaFYIjjhr"
      },
      "outputs": [],
      "source": [
        "#train_images, train_labels, test_images, test_levels=train_test_split(images, labels, train_size = 1)\n",
        "train_images, train_labels = images, labels"
      ]
    },
    {
      "cell_type": "code",
      "execution_count": null,
      "metadata": {
        "id": "tY9LFlKfkOki",
        "colab": {
          "base_uri": "https://localhost:8080/"
        },
        "outputId": "566e7e0a-3c1c-4371-c6a2-31cc5a4e3760"
      },
      "outputs": [
        {
          "output_type": "execute_result",
          "data": {
            "text/plain": [
              "(1524, 28, 28)"
            ]
          },
          "metadata": {},
          "execution_count": 8
        }
      ],
      "source": [
        "train_images.shape"
      ]
    },
    {
      "cell_type": "code",
      "execution_count": null,
      "metadata": {
        "id": "hsyQclQWlUGL"
      },
      "outputs": [],
      "source": [
        "train_images = train_images.reshape(train_images.shape[0], 28, 28, 1).astype('float32')\n",
        "train_images = (train_images - 127.5) / 127.5"
      ]
    },
    {
      "cell_type": "code",
      "execution_count": null,
      "metadata": {
        "id": "3UuS158plWJP"
      },
      "outputs": [],
      "source": [
        "BUFFER_SIZE = 1232\n",
        "BATCH_SIZE = 1024"
      ]
    },
    {
      "cell_type": "code",
      "execution_count": null,
      "metadata": {
        "id": "yNY9jT3rtwUd"
      },
      "outputs": [],
      "source": [
        "train_dataset = tf.data.Dataset.from_tensor_slices(train_images).shuffle(BUFFER_SIZE).batch(BATCH_SIZE)"
      ]
    },
    {
      "cell_type": "code",
      "execution_count": null,
      "metadata": {
        "id": "IHy5xNQuldxy"
      },
      "outputs": [],
      "source": [
        "def make_generator_model():\n",
        "    model = tf.keras.Sequential()\n",
        "    model.add(layers.Dense(7*7*256, use_bias=False, input_shape=(100,)))\n",
        "    model.add(layers.BatchNormalization())\n",
        "    model.add(layers.LeakyReLU())\n",
        "    model.add(layers.Dropout(0.5))\n",
        "\n",
        "    model.add(layers.Reshape((7, 7, 256)))\n",
        "    assert model.output_shape == (None, 7, 7, 256)  # Note: None is the batch size\n",
        "    model.add(layers.Conv2DTranspose(128, (5, 5), strides=(1, 1), padding='same', use_bias=False))\n",
        "    assert model.output_shape == (None, 7, 7, 128)\n",
        "    model.add(layers.BatchNormalization())\n",
        "    model.add(layers.LeakyReLU())\n",
        "    model.add(layers.Dropout(0.4))\n",
        "\n",
        "   # upsample to 14x14\n",
        "    model.add(layers.Conv2DTranspose(64, (5, 5), strides=(2, 2), padding='same', use_bias=False))\n",
        "    assert model.output_shape == (None, 14, 14, 64)\n",
        "    model.add(layers.BatchNormalization())\n",
        "    model.add(layers.LeakyReLU())\n",
        "    model.add(layers.Dropout(0.3))\n",
        "\n",
        "    model.add(layers.Conv2DTranspose(32, (5, 5), strides=(1, 1), padding='same', use_bias=False))\n",
        "    assert model.output_shape == (None, 14, 14, 32)\n",
        "    model.add(layers.BatchNormalization())\n",
        "    model.add(layers.LeakyReLU())\n",
        "    model.add(layers.Dropout(0.2))\n",
        "\n",
        "    # upsample to 28x28\n",
        "    model.add(layers.Conv2DTranspose(1, (5, 5), strides=(2, 2), padding='same', use_bias=False, activation='tanh'))\n",
        "    assert model.output_shape == (None, 28, 28, 1)\n",
        "\n",
        "    return model"
      ]
    },
    {
      "cell_type": "code",
      "execution_count": null,
      "metadata": {
        "id": "XSw7qtITuFGN",
        "colab": {
          "base_uri": "https://localhost:8080/",
          "height": 447
        },
        "outputId": "8aac06fe-9a27-44c6-c463-0865febbafc5"
      },
      "outputs": [
        {
          "output_type": "execute_result",
          "data": {
            "text/plain": [
              "<matplotlib.image.AxesImage at 0x7f8629380130>"
            ]
          },
          "metadata": {},
          "execution_count": 4
        },
        {
          "output_type": "display_data",
          "data": {
            "text/plain": [
              "<Figure size 640x480 with 1 Axes>"
            ],
            "image/png": "[encoded data removed]"
          },
          "metadata": {}
        }
      ],
      "source": [
        "generator = make_generator_model()\n",
        "\n",
        "noise = tf.random.normal([1, 100]) #a tensor with 100 value is created. So it can be generator's input\n",
        "generated_image = generator(noise, training=False)\n",
        "\n",
        "plt.imshow(generated_image[0, :, :, 0], cmap='gray')\n",
        "#the generated image's shape is (1, 28, 28, 1). Where generated_image[0] and generated_image[-1] have to be 0."
      ]
    },
    {
      "cell_type": "code",
      "execution_count": null,
      "metadata": {
        "id": "gmvI9-YFlsbp"
      },
      "outputs": [],
      "source": [
        "def make_discriminator_model():\n",
        "    model = tf.keras.Sequential()\n",
        "\n",
        "    model.add(layers.Conv2D(64, (5, 5), strides=(2, 2), padding='same',input_shape=[28, 28, 1])) #2×2 stride to downsample\n",
        "    #model.add(layers.LeakyReLU())\n",
        "    model.add(layers.Dropout(0.5))\n",
        "    model.add(layers.LeakyReLU())\n",
        "    model.add(layers.BatchNormalization())\n",
        "\n",
        "    model.add(layers.Conv2D(128, (5, 5), strides=(2, 2), padding='same')) #downsampling  2×2 stride to downsample\n",
        "    model.add(layers.LeakyReLU())\n",
        "    model.add(layers.Dropout(0.4))\n",
        "    model.add(layers.LeakyReLU())\n",
        "    model.add(layers.BatchNormalization())\n",
        "\n",
        "    model.add(layers.Conv2D(256, (5, 5), strides=(1, 1), padding='same')) #downsampling  2×2 stride to downsample\n",
        "    model.add(layers.LeakyReLU())\n",
        "    model.add(layers.Dropout(0.3))\n",
        "    model.add(layers.LeakyReLU())\n",
        "    model.add(layers.BatchNormalization())\n",
        "\n",
        "\n",
        "    model.add(layers.Flatten())  # classifier real (class=1) or fake (class=0))\n",
        "\n",
        "    model.add(layers.Dense(128, activation='relu'))\n",
        "    model.add(layers.Dropout(0.5))\n",
        "    model.add(layers.Dense(64, activation='relu'))\n",
        "    model.add(layers.Dropout(0.3))\n",
        "    model.add(layers.Dense(1, activation='sigmoid'))\n",
        "\n",
        "    return model"
      ]
    },
    {
      "cell_type": "code",
      "execution_count": null,
      "metadata": {
        "id": "2EDxeCJzlyYi",
        "colab": {
          "base_uri": "https://localhost:8080/"
        },
        "outputId": "6fe5ea69-ac2a-41d1-a678-68bbab4a8222"
      },
      "outputs": [
        {
          "output_type": "stream",
          "name": "stdout",
          "text": [
            "tf.Tensor([[0.49999416]], shape=(1, 1), dtype=float32)\n"
          ]
        }
      ],
      "source": [
        "discriminator = make_discriminator_model()\n",
        "decision = discriminator(generated_image)\n",
        "print (decision)"
      ]
    },
    {
      "cell_type": "code",
      "execution_count": null,
      "metadata": {
        "id": "AtcwI481l2hq"
      },
      "outputs": [],
      "source": [
        "# This method returns a helper function to compute cross entropy loss\n",
        "cross_entropy = tf.keras.losses.BinaryCrossentropy(from_logits=True)\n",
        "#from_logits=True means the loss function will work before it enter the sigmoid function"
      ]
    },
    {
      "cell_type": "code",
      "execution_count": null,
      "metadata": {
        "id": "NW7SEejJrd9W"
      },
      "outputs": [],
      "source": [
        "def discriminator_loss(real_output, fake_output):\n",
        "    real_loss = cross_entropy(tf.ones_like(real_output), real_output)\n",
        "    #tf.ones_like(real_output) will create shape of tensor situated in real output but all value inside that will be 1.\n",
        "    fake_loss = cross_entropy(tf.zeros_like(fake_output), fake_output)\n",
        "    #here all the real value will set as 1 and fake value set as 0. Then compare with predicted value\n",
        "    total_loss = real_loss + fake_loss\n",
        "    return total_loss\n",
        "    #using binary cross entropy, loss function is created"
      ]
    },
    {
      "cell_type": "code",
      "execution_count": null,
      "metadata": {
        "id": "XMnkm6kcu722"
      },
      "outputs": [],
      "source": [
        "def generator_loss(fake_output):\n",
        "    return cross_entropy(tf.ones_like(fake_output), fake_output)\n",
        "    #find generator loss with comparing fake output with ones_tensor of same shape"
      ]
    },
    {
      "cell_type": "code",
      "execution_count": null,
      "metadata": {
        "id": "ZG-3eZCIu9nE"
      },
      "outputs": [],
      "source": [
        "generator_optimizer = tf.keras.optimizers.Adam(1e-4)\n",
        "discriminator_optimizer = tf.keras.optimizers.Adam(1e-4)\n",
        "#for generator and discriminator both case Adam optimizer is used and its learning rate is 0.0001"
      ]
    },
    {
      "cell_type": "code",
      "execution_count": null,
      "metadata": {
        "id": "ooyWztWkvB8u"
      },
      "outputs": [],
      "source": [
        "checkpoint_dir = './training_checkpoints'\n",
        "checkpoint_prefix = os.path.join(checkpoint_dir, \"ckpt\")\n",
        "checkpoint = tf.train.Checkpoint(generator_optimizer=generator_optimizer,\n",
        "                                 discriminator_optimizer=discriminator_optimizer,\n",
        "                                 generator=generator,\n",
        "                                 discriminator=discriminator)"
      ]
    },
    {
      "cell_type": "code",
      "execution_count": null,
      "metadata": {
        "id": "TXSZVHUovG2F"
      },
      "outputs": [],
      "source": [
        "EPOCHS = 5000\n",
        "noise_dim = 100\n",
        "num_examples_to_generate = 1\n",
        "\n",
        "seed = tf.random.normal([num_examples_to_generate, noise_dim])\n",
        "#it creates random number with (num_examples_to_generate, noise_dim) dimension\n",
        "#basically this part will go to the model"
      ]
    },
    {
      "cell_type": "code",
      "execution_count": null,
      "metadata": {
        "id": "Ns-C-JKlvN9O"
      },
      "outputs": [],
      "source": [
        "@tf.function\n",
        "def train_step(images):\n",
        "    noise = tf.random.normal([BATCH_SIZE, noise_dim])\n",
        "    #BATCH_SIZE is number of row and noise_dim is number of column_\n",
        "\n",
        "    with tf.GradientTape() as gen_tape, tf.GradientTape() as disc_tape:\n",
        "      #tf.GradientTape() find the gradiant or difference between 2 things\n",
        "      generated_images = generator(noise, training=True)\n",
        "      #get the noise and put it into generator function\n",
        "\n",
        "      real_output = discriminator(images, training=True)\n",
        "      #create weights and biases for real image and set output as 1\n",
        "      fake_output = discriminator(generated_images, training=True)\n",
        "      #from the previous weights and biases generate new output between 0 to 1\n",
        "\n",
        "\n",
        "      gen_loss = generator_loss(fake_output)\n",
        "      disc_loss = discriminator_loss(real_output, fake_output)\n",
        "      #find out loss function for generator and discriminator\n",
        "\n",
        "    gradients_of_generator = gen_tape.gradient(gen_loss, generator.trainable_variables)\n",
        "    #find difference between gen_loss & generator.trainable_variables\n",
        "    #or how much gen_loss is changed by changing the generator.trainable_variable one unit\n",
        "    gradients_of_discriminator = disc_tape.gradient(disc_loss, discriminator.trainable_variables)\n",
        "    #find difference between disc_loss & discriminator.trainable_variables\n",
        "    #or how much disc_loss is changed by changing the discriminator.trainable_variables one unit\n",
        "\n",
        "    generator_optimizer.apply_gradients(zip(gradients_of_generator, generator.trainable_variables))\n",
        "    #optimizer to reduce difference between gradients_of_generator & generator.trainable_variables\n",
        "    discriminator_optimizer.apply_gradients(zip(gradients_of_discriminator, discriminator.trainable_variables))\n",
        "    #optimizer to reduce difference between gradients_of_discriminator & discriminator.trainable_variables"
      ]
    },
    {
      "cell_type": "code",
      "execution_count": null,
      "metadata": {
        "id": "nEA3DA6bvXd0"
      },
      "outputs": [],
      "source": [
        "def train(dataset, epoch):\n",
        "  for epoch in range(epoch):\n",
        "    start = time.time()\n",
        "\n",
        "    for image_batch in dataset:\n",
        "      train_step(image_batch)\n",
        "\n",
        "    # Produce images for the GIF as you go\n",
        "    display.clear_output(wait=True)\n",
        "    generate_and_save_images(generator,\n",
        "                             epoch + 1,\n",
        "                             seed)\n",
        "\n",
        "    # Save the model every 15 epochs\n",
        "    if (epoch + 1) % 15 == 0:\n",
        "      checkpoint.save(file_prefix = checkpoint_prefix)\n",
        "      #save the path to the file_prefix\n",
        "\n",
        "    print ('Time for epoch {} is {} sec'.format(epoch + 1, time.time()-start))\n",
        "    #print how much time is needed do each step\n",
        "\n",
        "  # Generate after the final epoch\n",
        "  display.clear_output(wait=True)\n",
        "  generate_and_save_images(generator,\n",
        "                           epoch,\n",
        "                           seed)"
      ]
    },
    {
      "cell_type": "code",
      "execution_count": null,
      "metadata": {
        "id": "iW6zdx94veeI"
      },
      "outputs": [],
      "source": [
        "def generate_and_save_images(model, epoch, test_input):\n",
        "  # Notice `training` is set to False.\n",
        "  # This is so all layers run in inference mode (batchnorm).\n",
        "  predictions = model(test_input, training=False)\n",
        "\n",
        "  fig = plt.figure(figsize=(4, 4))\n",
        "\n",
        "# if i want to make the images as subplot\n",
        "###  for i in range(predictions.shape[0]):\n",
        "###      plt.subplot(4, 4, i+1)\n",
        "###      plt.imshow(predictions[i, :, :, 0] * 127.5 + 127.5, cmap='gray')\n",
        "###      plt.axis('off')\n",
        "\n",
        "#if i want to make the images to show one by one\n",
        "  for i in range(predictions.shape[0]):\n",
        "    plt.figure()\n",
        "    plt.imshow(predictions[i, :, :, 0] * 127.5 + 127.5, cmap='gray')\n",
        "    plt.axis('off')\n",
        "\n",
        "  plt.savefig('image_at_epoch_{:04d}.png'.format(epoch))\n",
        "  plt.show()"
      ]
    },
    {
      "cell_type": "code",
      "execution_count": null,
      "metadata": {
        "id": "HL1R4y4OBsFl",
        "colab": {
          "base_uri": "https://localhost:8080/",
          "height": 448
        },
        "outputId": "cba9cec0-862f-4089-a635-10e1551454eb"
      },
      "outputs": [
        {
          "output_type": "execute_result",
          "data": {
            "text/plain": [
              "<matplotlib.image.AxesImage at 0x7f35905a6d70>"
            ]
          },
          "metadata": {},
          "execution_count": 25
        },
        {
          "output_type": "display_data",
          "data": {
            "text/plain": [
              "<Figure size 640x480 with 1 Axes>"
            ],
            "image/png": "[encoded data removed]"
          },
          "metadata": {}
        }
      ],
      "source": [
        "plt.imshow(images[50])"
      ]
    },
    {
      "cell_type": "code",
      "execution_count": null,
      "metadata": {
        "id": "5s9B3dg6vmMt",
        "colab": {
          "base_uri": "https://localhost:8080/",
          "height": 442
        },
        "outputId": "27b1ed8a-36ad-462a-c257-0e690a2cf68c"
      },
      "outputs": [
        {
          "output_type": "display_data",
          "data": {
            "text/plain": [
              "<Figure size 400x400 with 0 Axes>"
            ]
          },
          "metadata": {}
        },
        {
          "output_type": "display_data",
          "data": {
            "text/plain": [
              "<Figure size 640x480 with 1 Axes>"
            ],
            "image/png": "[encoded data removed]"
          },
          "metadata": {}
        },
        {
          "output_type": "stream",
          "name": "stdout",
          "text": [
            "Time for epoch 4669 is 0.7092320919036865 sec\n"
          ]
        }
      ],
      "source": [
        "# Call the train function\n",
        "train(train_dataset, EPOCHS)"
      ]
    },
    {
      "cell_type": "code",
      "execution_count": null,
      "metadata": {
        "id": "iEP2WkuDbA6o"
      },
      "outputs": [],
      "source": []
    },
    {
      "cell_type": "code",
      "execution_count": null,
      "metadata": {
        "id": "hn-MSIaMbBA1"
      },
      "outputs": [],
      "source": []
    },
    {
      "cell_type": "code",
      "execution_count": null,
      "metadata": {
        "id": "hH9Is6wvWVvf"
      },
      "outputs": [],
      "source": [
        "# Set the directory path\n",
        "dir_path = \"/content/\"\n",
        "\n",
        "# Get a list of all the filenames in the directory\n",
        "file_list = os.listdir(dir_path)\n",
        "\n",
        "# Keep only the filenames that end with \".png\" and have the desired suffix\n",
        "suffix = \".png\"\n",
        "images_with_suffix = [f for f in file_list if f.endswith(suffix)]\n",
        "images2 = images_with_suffix[:]\n",
        "\n",
        "# Load the images into a NumPy array\n",
        "images_array = np.array([np.array(Image.open(os.path.join(dir_path, f))) for f in images2]) #''' SO MUCH IMPORTANT FOR HOW MUCH PHOTO WE WILL USE '''\n",
        "\n",
        "\n",
        "\n",
        "'''\n",
        "\n",
        "# Set the directory path\n",
        "dir_path = \"/content/\"\n",
        "\n",
        "# Get a list of all the filenames in the directory\n",
        "file_list = os.listdir(dir_path)\n",
        "\n",
        "i = 5\n",
        "\n",
        "images_list = []\n",
        "for j in range(i):\n",
        "    img = Image.fromarray((generated_images[j] * 255).astype(np.uint8))\n",
        "    images_list.append(np.array(img))\n",
        "\n",
        "# Convert list of images to NumPy ndarray\n",
        "images_array = np.array(images_list)\n",
        "\n",
        "# Save the last i images to disk\n",
        "for j in range(i):\n",
        "    filename = f\"image_{j}.png\"\n",
        "    filepath = os.path.join(dir_path, filename)\n",
        "    Image.fromarray(images_array[j]).save(filepath)\n",
        "'''"
      ]
    },
    {
      "cell_type": "code",
      "source": [
        "images_array.shape"
      ],
      "metadata": {
        "id": "YrqbYpPaxFNd"
      },
      "execution_count": null,
      "outputs": []
    },
    {
      "cell_type": "code",
      "execution_count": null,
      "metadata": {
        "id": "WqpVnFD4bFXG"
      },
      "outputs": [],
      "source": [
        "plt.imshow(images_array[-5])"
      ]
    },
    {
      "cell_type": "code",
      "execution_count": null,
      "metadata": {
        "id": "DwxUJq9oevvp"
      },
      "outputs": [],
      "source": [
        "import urllib.request\n",
        "\n",
        "dir_path = \"/content/\"\n",
        "# Set the download path\n",
        "download_path = download\n",
        "\n",
        "# Loop through each filename in the images2 list and download the file\n",
        "for filename in images2:\n",
        "    url = \"file://\" + os.path.join(dir_path, filename)\n",
        "    download_url = os.path.join(download_path, filename)\n",
        "    urllib.request.urlretrieve(url, download_url)"
      ]
    },
    {
      "cell_type": "code",
      "execution_count": null,
      "metadata": {
        "id": "FtpBmcFNpIJj"
      },
      "outputs": [],
      "source": [
        "#print(output_images.shape)\n",
        "print(generated_image.shape)\n",
        "print(len(images2))"
      ]
    },
    {
      "cell_type": "code",
      "execution_count": null,
      "metadata": {
        "id": "HEKB22TW15Cv"
      },
      "outputs": [],
      "source": []
    },
    {
      "cell_type": "code",
      "execution_count": null,
      "metadata": {
        "id": "J4ByRzuXxjNM"
      },
      "outputs": [],
      "source": [
        "import cv2\n",
        "import numpy as np\n",
        "\n",
        "# Assuming your input images are in a variable called images_array\n",
        "# Reshape the input images to a compatible shape\n",
        "images_array = images_array.reshape((-1, 480, 640, 4))  # adjust the dimensions if needed\n",
        "\n",
        "# Resize each image to (28, 28) using OpenCV\n",
        "resized_images = []\n",
        "for i in range(len(images_array)):\n",
        "    img = images_array[i]\n",
        "    img = cv2.resize(img, (28, 28), interpolation=cv2.INTER_AREA)\n",
        "    resized_images.append(img)\n",
        "\n",
        "# Convert the resized images to grayscale\n",
        "gray_images = np.mean(resized_images, axis=-1, keepdims=True)\n",
        "\n",
        "# Normalize the grayscale images\n",
        "norm_images = gray_images / 255.0\n",
        "\n",
        "# Convert the normalized images to the desired shape\n",
        "output_images = norm_images.reshape((images_array.shape[0], 28, 28, 1))"
      ]
    },
    {
      "cell_type": "code",
      "execution_count": null,
      "metadata": {
        "id": "w4Qs8yI1bKKF"
      },
      "outputs": [],
      "source": [
        "images2"
      ]
    },
    {
      "cell_type": "code",
      "execution_count": null,
      "metadata": {
        "id": "pSYBqvj13E8D"
      },
      "outputs": [],
      "source": [
        "np.shape(output_images)"
      ]
    },
    {
      "cell_type": "code",
      "execution_count": null,
      "metadata": {
        "id": "ZN1I31dM4WqJ"
      },
      "outputs": [],
      "source": [
        "plt.imshow(output_images[-1])"
      ]
    },
    {
      "cell_type": "code",
      "execution_count": null,
      "metadata": {
        "id": "pPk-2A301L4O"
      },
      "outputs": [],
      "source": [
        "decision = discriminator(output_images)\n",
        "print (decision)"
      ]
    }
  ],
  "metadata": {
    "accelerator": "GPU",
    "colab": {
      "provenance": []
    },
    "gpuClass": "standard",
    "kernelspec": {
      "display_name": "Python 3",
      "name": "python3"
    },
    "language_info": {
      "name": "python"
    }
  },
  "nbformat": 4,
  "nbformat_minor": 0
}