{
  "cells": [
    {
      "cell_type": "code",
      "execution_count": null,
      "metadata": {
        "id": "265PRsErk2dU"
      },
      "outputs": [],
      "source": [
        "import os\n",
        "import numpy as np\n",
        "import pandas as pd\n",
        "import matplotlib.pyplot as plt\n",
        "from PIL import Image\n",
        "from sklearn.model_selection import train_test_split\n",
        "from sklearn.metrics import confusion_matrix, classification_report\n",
        "import tensorflow as tf\n",
        "from tensorflow import keras\n",
        "from tensorflow.keras import layers\n",
        "from tensorflow.keras.models import Sequential\n",
        "from sklearn.preprocessing import LabelEncoder\n",
        "from tensorflow.keras.layers import Conv2D, MaxPooling2D, Flatten, Dense, BatchNormalization, Dropout"
      ]
    },
    {
      "cell_type": "code",
      "execution_count": null,
      "metadata": {
        "colab": {
          "base_uri": "https://localhost:8080/"
        },
        "id": "1_rdj3zUs1IQ",
        "outputId": "36928d2a-14ea-402a-afee-c4179e05d874"
      },
      "outputs": [
        {
          "output_type": "stream",
          "name": "stdout",
          "text": [
            "Mounted at /content/drive\n"
          ]
        }
      ],
      "source": [
        "# Mount Google Drive\n",
        "from google.colab import drive\n",
        "drive.mount('/content/drive')"
      ]
    },
    {
      "cell_type": "code",
      "execution_count": null,
      "metadata": {
        "id": "xWvzR9zQs8fH"
      },
      "outputs": [],
      "source": [
        "# Define the path to your folder in Google Drive\n",
        "folder_path1 = '/content/drive/MyDrive/Data/New/group data/female'\n",
        "folder_path2 = '/content/drive/MyDrive/Data/New/group data/female new'"
      ]
    },
    {
      "cell_type": "code",
      "execution_count": null,
      "metadata": {
        "id": "1208s7lctAOn"
      },
      "outputs": [],
      "source": [
        "# Get a list of all subfolders in the main folder\n",
        "subfolders1 = [f.path for f in os.scandir(folder_path1) if f.is_dir()]\n",
        "subfolders2 = [f.path for f in os.scandir(folder_path2) if f.is_dir()]"
      ]
    },
    {
      "cell_type": "code",
      "execution_count": null,
      "metadata": {
        "id": "E8SGFy3bKqkQ"
      },
      "outputs": [],
      "source": [
        "# Get the list of class folders\n",
        "class_folders1 = os.listdir(folder_path1)\n",
        "class_folders2 = os.listdir(folder_path2)"
      ]
    },
    {
      "cell_type": "code",
      "execution_count": null,
      "metadata": {
        "colab": {
          "base_uri": "https://localhost:8080/"
        },
        "id": "Kn8U77yQK99V",
        "outputId": "5163fc2b-2ac4-4b19-cbef-6eb617dda24c"
      },
      "outputs": [
        {
          "output_type": "execute_result",
          "data": {
            "text/plain": [
              "['/content/drive/MyDrive/Data/New/group data/female/10',\n",
              " '/content/drive/MyDrive/Data/New/group data/female/11',\n",
              " '/content/drive/MyDrive/Data/New/group data/female/12',\n",
              " '/content/drive/MyDrive/Data/New/group data/female/13',\n",
              " '/content/drive/MyDrive/Data/New/group data/female/15',\n",
              " '/content/drive/MyDrive/Data/New/group data/female/14',\n",
              " '/content/drive/MyDrive/Data/New/group data/female/16',\n",
              " '/content/drive/MyDrive/Data/New/group data/female/17',\n",
              " '/content/drive/MyDrive/Data/New/group data/female/20',\n",
              " '/content/drive/MyDrive/Data/New/group data/female/18',\n",
              " '/content/drive/MyDrive/Data/New/group data/female/19']"
            ]
          },
          "metadata": {},
          "execution_count": 6
        }
      ],
      "source": [
        "subfolders1"
      ]
    },
    {
      "cell_type": "code",
      "execution_count": null,
      "metadata": {
        "id": "61Rms5rvaOgc"
      },
      "outputs": [],
      "source": [
        "# Initialize empty lists for images and labels\n",
        "images1 = []\n",
        "labels1 = []\n",
        "\n",
        "images2 = []\n",
        "labels2 = []"
      ]
    },
    {
      "cell_type": "code",
      "execution_count": null,
      "metadata": {
        "id": "xU929DaNaTk1"
      },
      "outputs": [],
      "source": [
        "# Iterate through class folders\n",
        "for class_folder1 in class_folders1:\n",
        "    # Get the path to each class folder\n",
        "    class_folder_path1 = os.path.join(folder_path1, class_folder1)\n",
        "\n",
        "    # Get the list of image files in the class folder\n",
        "    image_files1 = os.listdir(class_folder_path1)\n",
        "\n",
        "    # Iterate through image files\n",
        "    for image_file1 in image_files1:\n",
        "        # Get the path to each image file\n",
        "        image_path1 = os.path.join(class_folder_path1, image_file1)\n",
        "\n",
        "        # Open the image file using PIL\n",
        "        image1 = Image.open(image_path1)\n",
        "\n",
        "        # Resize the image to (32, 32)\n",
        "        image1 = image1.resize((28, 28))\n",
        "\n",
        "        # Convert the image to grayscale\n",
        "        image1 = image1.convert('L')\n",
        "\n",
        "        # Convert the image to a NumPy array\n",
        "        image_array1 = np.array(image1)\n",
        "\n",
        "        # Add a new axis to the image array to make it (32, 32, 1)\n",
        "        image_array1 = np.expand_dims(image_array1, axis=-1)\n",
        "\n",
        "        # Append the image array and class label to the lists\n",
        "        images1.append(image_array1)\n",
        "        labels1.append(class_folder1)  # Use the folder name as the class label"
      ]
    },
    {
      "cell_type": "code",
      "execution_count": null,
      "metadata": {
        "id": "BattL5QEaW7l"
      },
      "outputs": [],
      "source": [
        "# Convert the lists to NumPy arrays\n",
        "images1 = np.array(images1)\n",
        "labels1 = np.array(labels1)"
      ]
    },
    {
      "cell_type": "code",
      "execution_count": null,
      "metadata": {
        "id": "bG0wkdmIK99Z"
      },
      "outputs": [],
      "source": [
        "# Split the data into training and test sets\n",
        "train_images1, test_images1, train_labels1, test_labels1 = train_test_split(\n",
        "    images1, labels1, test_size=0.2, random_state=42)"
      ]
    },
    {
      "cell_type": "code",
      "execution_count": null,
      "metadata": {
        "id": "rcpUAhhhq8Ik"
      },
      "outputs": [],
      "source": [
        "# Iterate through class folders\n",
        "for class_folder2 in class_folders2:\n",
        "    # Get the path to each class folder\n",
        "    class_folder_path2 = os.path.join(folder_path2, class_folder2)\n",
        "\n",
        "    # Get the list of image files in the class folder\n",
        "    image_files2 = os.listdir(class_folder_path2)\n",
        "\n",
        "    # Iterate through image files\n",
        "    for image_file2 in image_files2:\n",
        "        # Get the path to each image file\n",
        "        image_path2 = os.path.join(class_folder_path2, image_file2)\n",
        "\n",
        "        # Open the image file using PIL\n",
        "        image2 = Image.open(image_path2)\n",
        "\n",
        "        # Resize the image to (32, 32)\n",
        "        image2 = image2.resize((28, 28))\n",
        "\n",
        "        # Convert the image to grayscale\n",
        "        image2 = image2.convert('L')\n",
        "\n",
        "        # Convert the image to a NumPy array\n",
        "        image_array2 = np.array(image2)\n",
        "\n",
        "        # Add a new axis to the image array to make it (32, 32, 1)\n",
        "        image_array2 = np.expand_dims(image_array2, axis=-1)\n",
        "\n",
        "        # Append the image array and class label to the lists\n",
        "        images2.append(image_array2)\n",
        "        labels2.append(class_folder2)  # Use the folder name as the class label"
      ]
    },
    {
      "cell_type": "code",
      "execution_count": null,
      "metadata": {
        "id": "ztWC7BRvrW2l"
      },
      "outputs": [],
      "source": [
        "# Convert the lists to NumPy arrays\n",
        "images2 = np.array(images2)\n",
        "labels2 = np.array(labels2)"
      ]
    },
    {
      "cell_type": "code",
      "execution_count": null,
      "metadata": {
        "id": "JGeKjEVkrbhs"
      },
      "outputs": [],
      "source": [
        "train_image = np.concatenate((train_images1, images2), axis=0)\n",
        "train_labels = np.concatenate((train_labels1, labels2), axis=0)"
      ]
    },
    {
      "cell_type": "code",
      "execution_count": null,
      "metadata": {
        "colab": {
          "base_uri": "https://localhost:8080/"
        },
        "id": "VlT9unSmabS1",
        "outputId": "66fb2030-7455-481d-b642-5f9dac7f6537"
      },
      "outputs": [
        {
          "output_type": "stream",
          "name": "stdout",
          "text": [
            "Images shape: (22293, 28, 28, 1)\n",
            "Labels shape: 22293\n"
          ]
        }
      ],
      "source": [
        "# Print the shapes of the images and labels arrays\n",
        "print(\"Images shape:\", images1.shape)\n",
        "print(\"Labels shape:\", labels1.shape[0])"
      ]
    },
    {
      "cell_type": "code",
      "execution_count": null,
      "metadata": {
        "colab": {
          "base_uri": "https://localhost:8080/"
        },
        "id": "DujnqkuA6E70",
        "outputId": "e2b81d83-f2c8-4bc4-c16c-c773d72d4af7"
      },
      "outputs": [
        {
          "output_type": "execute_result",
          "data": {
            "text/plain": [
              "numpy.ndarray"
            ]
          },
          "metadata": {},
          "execution_count": 15
        }
      ],
      "source": [
        "type(train_image)"
      ]
    },
    {
      "cell_type": "code",
      "execution_count": null,
      "metadata": {
        "id": "eC9cQ9wFtJ6f"
      },
      "outputs": [],
      "source": [
        "# Convert the images and labels lists to numpy arrays\n",
        "#images = np.array(images)\n",
        "#labels = np.array(labels)"
      ]
    },
    {
      "cell_type": "code",
      "execution_count": null,
      "metadata": {
        "colab": {
          "base_uri": "https://localhost:8080/",
          "height": 53
        },
        "id": "71TjLsg4tMJI",
        "outputId": "99b09a01-a290-47be-9cfd-2d39631e5c13"
      },
      "outputs": [
        {
          "output_type": "execute_result",
          "data": {
            "text/plain": [
              "'\\'\\n# Print the shapes of the images and labels arrays\\nprint(\"Images shape:\", images.shape)\\nprint(\"Labels shape:\", labels.shape)\\n'"
            ],
            "application/vnd.google.colaboratory.intrinsic+json": {
              "type": "string"
            }
          },
          "metadata": {},
          "execution_count": 17
        }
      ],
      "source": [
        "''''\n",
        "# Print the shapes of the images and labels arrays\n",
        "print(\"Images shape:\", images.shape)\n",
        "print(\"Labels shape:\", labels.shape)\n",
        "'''"
      ]
    },
    {
      "cell_type": "code",
      "execution_count": null,
      "metadata": {
        "id": "Xd9BU0XwtYan"
      },
      "outputs": [],
      "source": [
        "# Split the data into training and test sets\n",
        "#train_images, test_images, train_labels, test_labels = train_test_split(\n",
        "#    images, labels, test_size=0.2, random_state=42)"
      ]
    },
    {
      "cell_type": "code",
      "execution_count": null,
      "metadata": {
        "id": "kxGYmqHoK99d"
      },
      "outputs": [],
      "source": [
        "# Split the data into training and test sets\n",
        "#train_images1, test_images1, train_labels1, test_labels1 = train_test_split(\n",
        "#    images1, labels1, test_size=0.2, random_state=42)"
      ]
    },
    {
      "cell_type": "code",
      "execution_count": null,
      "metadata": {
        "id": "olKx6vdIWU8T"
      },
      "outputs": [],
      "source": [
        "# Create an instance of LabelEncoder\n",
        "label_encoder = LabelEncoder()"
      ]
    },
    {
      "cell_type": "code",
      "execution_count": null,
      "metadata": {
        "id": "HQVdKaSTGy5T"
      },
      "outputs": [],
      "source": [
        "# Encode the labels\n",
        "train_labels_encoded = label_encoder.fit_transform(train_labels)\n",
        "test_labels_encoded = label_encoder.transform(test_labels1)"
      ]
    },
    {
      "cell_type": "code",
      "execution_count": null,
      "metadata": {
        "id": "SCdbVtznK99f"
      },
      "outputs": [],
      "source": [
        "# Encode the labels\n",
        "train_labels_encoded1 = label_encoder.fit_transform(train_labels1)\n",
        "test_labels_encoded1 = label_encoder.transform(test_labels1)"
      ]
    },
    {
      "cell_type": "code",
      "execution_count": null,
      "metadata": {
        "id": "7fqT4FDxG1uI"
      },
      "outputs": [],
      "source": [
        "# Define the number of classes\n",
        "num_classes = len(label_encoder.classes_)"
      ]
    },
    {
      "cell_type": "code",
      "execution_count": null,
      "metadata": {
        "id": "-_iP9uoNK99f"
      },
      "outputs": [],
      "source": [
        "model = Sequential()\n",
        "model.add(Conv2D(128,kernel_size=(5,5),strides=1,activation='relu',input_shape=(28,28,1),padding='same'))\n",
        "model.add(MaxPooling2D((5,5),strides=(1,1)))\n",
        "model.add(BatchNormalization())\n",
        "model.add(Dropout(0.5))\n",
        "\n",
        "model.add(Conv2D(86,kernel_size=(5,5),strides=1,activation='relu',padding='same'))\n",
        "model.add(MaxPooling2D((3,3),strides=(2,2)))\n",
        "model.add(BatchNormalization())\n",
        "model.add(Dropout(0.3))\n",
        "\n",
        "model.add(Conv2D(60,kernel_size=(6,6),strides=1,activation='relu',padding='same'))\n",
        "model.add(MaxPooling2D((5,5),strides=(5,5)))\n",
        "model.add(BatchNormalization())\n",
        "model.add(Dropout(0.2))\n",
        "\n",
        "model.add(Flatten())\n",
        "\n",
        "model.add(Dense(1024,activation='relu'))\n",
        "model.add(Dropout(0.3))\n",
        "model.add(Dense(672,activation='relu'))\n",
        "model.add(Dense(num_classes,activation='softmax'))"
      ]
    },
    {
      "cell_type": "code",
      "execution_count": null,
      "metadata": {
        "id": "ggjRm5VUG38x"
      },
      "outputs": [],
      "source": [
        "model1 = Sequential()\n",
        "model1.add(Conv2D(128,kernel_size=(5,5),strides=1,activation='relu',input_shape=(28,28,1),padding='same'))\n",
        "model1.add(MaxPooling2D((5,5),strides=(1,1)))\n",
        "model1.add(BatchNormalization())\n",
        "model1.add(Dropout(0.5))\n",
        "\n",
        "model1.add(Conv2D(86,kernel_size=(5,5),strides=1,activation='relu',padding='same'))\n",
        "model1.add(MaxPooling2D((3,3),strides=(2,2)))\n",
        "model1.add(BatchNormalization())\n",
        "model1.add(Dropout(0.3))\n",
        "\n",
        "model1.add(Conv2D(60,kernel_size=(6,6),strides=1,activation='relu',padding='same'))\n",
        "model1.add(MaxPooling2D((5,5),strides=(5,5)))\n",
        "model1.add(BatchNormalization())\n",
        "model1.add(Dropout(0.2))\n",
        "\n",
        "model1.add(Flatten())\n",
        "\n",
        "model1.add(Dense(1024,activation='relu'))\n",
        "model1.add(Dropout(0.3))\n",
        "model1.add(Dense(672,activation='relu'))\n",
        "model1.add(Dense(num_classes,activation='softmax'))"
      ]
    },
    {
      "cell_type": "code",
      "execution_count": null,
      "metadata": {
        "id": "mBRb8YtRG6GS"
      },
      "outputs": [],
      "source": [
        "# Compile the model\n",
        "model.compile(optimizer='adam',\n",
        "              loss='sparse_categorical_crossentropy',\n",
        "              metrics=['accuracy'])"
      ]
    },
    {
      "cell_type": "code",
      "execution_count": null,
      "metadata": {
        "id": "rUh46kXWK99g"
      },
      "outputs": [],
      "source": [
        "# Compile the model\n",
        "model1.compile(optimizer='adam',\n",
        "              loss='sparse_categorical_crossentropy',\n",
        "              metrics=['accuracy'])"
      ]
    },
    {
      "cell_type": "code",
      "source": [
        "train_images1.shape"
      ],
      "metadata": {
        "colab": {
          "base_uri": "https://localhost:8080/"
        },
        "id": "Ba46xdUpb1O5",
        "outputId": "db38345e-66cb-498e-d678-5c4d37902735"
      },
      "execution_count": null,
      "outputs": [
        {
          "output_type": "execute_result",
          "data": {
            "text/plain": [
              "(17834, 28, 28, 1)"
            ]
          },
          "metadata": {},
          "execution_count": 36
        }
      ]
    },
    {
      "cell_type": "code",
      "execution_count": null,
      "metadata": {
        "colab": {
          "base_uri": "https://localhost:8080/"
        },
        "id": "UkZN5xe0G8G5",
        "outputId": "c51ea677-5bd1-493a-faec-93412d1f1176"
      },
      "outputs": [
        {
          "output_type": "stream",
          "name": "stdout",
          "text": [
            "Epoch 1/20\n",
            "699/699 [==============================] - 21s 12ms/step - loss: 0.3325 - accuracy: 0.8899\n",
            "Epoch 2/20\n",
            "699/699 [==============================] - 8s 11ms/step - loss: 0.1353 - accuracy: 0.9592\n",
            "Epoch 3/20\n",
            "699/699 [==============================] - 8s 12ms/step - loss: 0.1065 - accuracy: 0.9681\n",
            "Epoch 4/20\n",
            "699/699 [==============================] - 8s 11ms/step - loss: 0.0886 - accuracy: 0.9736\n",
            "Epoch 5/20\n",
            "699/699 [==============================] - 8s 12ms/step - loss: 0.0912 - accuracy: 0.9728\n",
            "Epoch 6/20\n",
            "699/699 [==============================] - 8s 12ms/step - loss: 0.0715 - accuracy: 0.9785\n",
            "Epoch 7/20\n",
            "699/699 [==============================] - 8s 11ms/step - loss: 0.0720 - accuracy: 0.9792\n",
            "Epoch 8/20\n",
            "699/699 [==============================] - 8s 12ms/step - loss: 0.0643 - accuracy: 0.9813\n",
            "Epoch 9/20\n",
            "699/699 [==============================] - 8s 11ms/step - loss: 0.0673 - accuracy: 0.9809\n",
            "Epoch 10/20\n",
            "699/699 [==============================] - 8s 12ms/step - loss: 0.0545 - accuracy: 0.9837\n",
            "Epoch 11/20\n",
            "699/699 [==============================] - 8s 11ms/step - loss: 0.0533 - accuracy: 0.9832\n",
            "Epoch 12/20\n",
            "699/699 [==============================] - 8s 12ms/step - loss: 0.0507 - accuracy: 0.9853\n",
            "Epoch 13/20\n",
            "699/699 [==============================] - 8s 12ms/step - loss: 0.0472 - accuracy: 0.9870\n",
            "Epoch 14/20\n",
            "699/699 [==============================] - 8s 11ms/step - loss: 0.0510 - accuracy: 0.9852\n",
            "Epoch 15/20\n",
            "699/699 [==============================] - 8s 12ms/step - loss: 0.0457 - accuracy: 0.9869\n",
            "Epoch 16/20\n",
            "699/699 [==============================] - 8s 11ms/step - loss: 0.0413 - accuracy: 0.9883\n",
            "Epoch 17/20\n",
            "699/699 [==============================] - 8s 12ms/step - loss: 0.0424 - accuracy: 0.9879\n",
            "Epoch 18/20\n",
            "699/699 [==============================] - 8s 11ms/step - loss: 0.0373 - accuracy: 0.9890\n",
            "Epoch 19/20\n",
            "699/699 [==============================] - 8s 12ms/step - loss: 0.0357 - accuracy: 0.9893\n",
            "Epoch 20/20\n",
            "699/699 [==============================] - 8s 12ms/step - loss: 0.0335 - accuracy: 0.9900\n"
          ]
        },
        {
          "output_type": "execute_result",
          "data": {
            "text/plain": [
              "<keras.callbacks.History at 0x7ff24cc9e740>"
            ]
          },
          "metadata": {},
          "execution_count": 37
        }
      ],
      "source": [
        "# Train the model\n",
        "model.fit(train_image, train_labels_encoded, epochs=20, batch_size=32, verbose=1)"
      ]
    },
    {
      "cell_type": "code",
      "execution_count": null,
      "metadata": {
        "colab": {
          "base_uri": "https://localhost:8080/"
        },
        "id": "ICGyT-TLK99h",
        "outputId": "2b50f238-e86b-4263-9a28-0483d283f21d"
      },
      "outputs": [
        {
          "output_type": "stream",
          "name": "stdout",
          "text": [
            "Epoch 1/20\n",
            "558/558 [==============================] - 10s 12ms/step - loss: 0.3880 - accuracy: 0.8685\n",
            "Epoch 2/20\n",
            "558/558 [==============================] - 6s 12ms/step - loss: 0.1591 - accuracy: 0.9502\n",
            "Epoch 3/20\n",
            "558/558 [==============================] - 6s 11ms/step - loss: 0.1274 - accuracy: 0.9613\n",
            "Epoch 4/20\n",
            "558/558 [==============================] - 7s 12ms/step - loss: 0.1059 - accuracy: 0.9687\n",
            "Epoch 5/20\n",
            "558/558 [==============================] - 6s 11ms/step - loss: 0.0983 - accuracy: 0.9689\n",
            "Epoch 6/20\n",
            "558/558 [==============================] - 7s 12ms/step - loss: 0.0885 - accuracy: 0.9726\n",
            "Epoch 7/20\n",
            "558/558 [==============================] - 6s 11ms/step - loss: 0.0778 - accuracy: 0.9775\n",
            "Epoch 8/20\n",
            "558/558 [==============================] - 7s 12ms/step - loss: 0.0773 - accuracy: 0.9775\n",
            "Epoch 9/20\n",
            "558/558 [==============================] - 6s 11ms/step - loss: 0.0699 - accuracy: 0.9792\n",
            "Epoch 10/20\n",
            "558/558 [==============================] - 7s 12ms/step - loss: 0.0679 - accuracy: 0.9805\n",
            "Epoch 11/20\n",
            "558/558 [==============================] - 6s 11ms/step - loss: 0.0706 - accuracy: 0.9787\n",
            "Epoch 12/20\n",
            "558/558 [==============================] - 6s 12ms/step - loss: 0.0538 - accuracy: 0.9842\n",
            "Epoch 13/20\n",
            "558/558 [==============================] - 6s 11ms/step - loss: 0.0573 - accuracy: 0.9830\n",
            "Epoch 14/20\n",
            "558/558 [==============================] - 6s 11ms/step - loss: 0.0567 - accuracy: 0.9831\n",
            "Epoch 15/20\n",
            "558/558 [==============================] - 6s 12ms/step - loss: 0.0510 - accuracy: 0.9858\n",
            "Epoch 16/20\n",
            "558/558 [==============================] - 6s 11ms/step - loss: 0.0424 - accuracy: 0.9871\n",
            "Epoch 17/20\n",
            "558/558 [==============================] - 7s 12ms/step - loss: 0.0531 - accuracy: 0.9840\n",
            "Epoch 18/20\n",
            "558/558 [==============================] - 6s 11ms/step - loss: 0.0449 - accuracy: 0.9874\n",
            "Epoch 19/20\n",
            "558/558 [==============================] - 7s 12ms/step - loss: 0.0376 - accuracy: 0.9881\n",
            "Epoch 20/20\n",
            "558/558 [==============================] - 6s 11ms/step - loss: 0.0454 - accuracy: 0.9869\n"
          ]
        },
        {
          "output_type": "execute_result",
          "data": {
            "text/plain": [
              "<keras.callbacks.History at 0x7ff23173ab00>"
            ]
          },
          "metadata": {},
          "execution_count": 38
        }
      ],
      "source": [
        "# Train the model\n",
        "model1.fit(train_images1, train_labels_encoded1, epochs=20, batch_size=32, verbose=1)"
      ]
    },
    {
      "cell_type": "code",
      "execution_count": null,
      "metadata": {
        "colab": {
          "base_uri": "https://localhost:8080/"
        },
        "id": "l_ovY3JIYtpb",
        "outputId": "7c4b80d1-857b-429f-94aa-4f96e783778b"
      },
      "outputs": [
        {
          "output_type": "stream",
          "name": "stdout",
          "text": [
            "140/140 [==============================] - 1s 6ms/step - loss: 0.1394 - accuracy: 0.9756\n"
          ]
        }
      ],
      "source": [
        "# Evaluate the model\n",
        "test_loss, test_acc = model.evaluate(test_images1, test_labels_encoded1, verbose=1)"
      ]
    },
    {
      "cell_type": "code",
      "execution_count": null,
      "metadata": {
        "colab": {
          "base_uri": "https://localhost:8080/"
        },
        "id": "D5o-Xd2jK99h",
        "outputId": "fdb09c86-6654-4be4-a08f-f92f1eedfe12"
      },
      "outputs": [
        {
          "output_type": "stream",
          "name": "stdout",
          "text": [
            "140/140 [==============================] - 1s 4ms/step - loss: 0.1683 - accuracy: 0.9675\n"
          ]
        }
      ],
      "source": [
        "test_loss1, test_acc1 = model1.evaluate(test_images1, test_labels_encoded1, verbose=1)"
      ]
    },
    {
      "cell_type": "code",
      "execution_count": null,
      "metadata": {
        "colab": {
          "base_uri": "https://localhost:8080/"
        },
        "id": "MK4w9F5RY4yU",
        "outputId": "f82b95ed-9427-47be-f65c-30c74bf435e8"
      },
      "outputs": [
        {
          "output_type": "stream",
          "name": "stdout",
          "text": [
            "Test accuracy with generated data: 0.9755550622940063\n",
            "Test accuracy with only real data: 0.9674814939498901\n"
          ]
        }
      ],
      "source": [
        "print('Test accuracy with generated data:', test_acc)\n",
        "print('Test accuracy with only real data:', test_acc1)"
      ]
    },
    {
      "cell_type": "code",
      "source": [
        "# Perform inference on the test images using your model\n",
        "predictions = model.predict(test_images1)\n",
        "\n",
        "predictions1 = model1.predict(test_images1)"
      ],
      "metadata": {
        "colab": {
          "base_uri": "https://localhost:8080/"
        },
        "id": "kBmSvNGCYoMB",
        "outputId": "11086645-7748-4ff8-cb38-55d56ce8c2eb"
      },
      "execution_count": null,
      "outputs": [
        {
          "output_type": "stream",
          "name": "stdout",
          "text": [
            "140/140 [==============================] - 1s 3ms/step\n",
            "140/140 [==============================] - 1s 3ms/step\n"
          ]
        }
      ]
    },
    {
      "cell_type": "code",
      "source": [
        "# Convert the predicted probabilities to class labels\n",
        "predicted_labels = np.argmax(predictions, axis=1)\n",
        "\n",
        "predicted_labels1 = np.argmax(predictions1, axis=1)"
      ],
      "metadata": {
        "id": "WtzeIk_5gFud"
      },
      "execution_count": null,
      "outputs": []
    },
    {
      "cell_type": "code",
      "source": [
        "# Convert the true labels to numpy array if they are not already\n",
        "true_labels = np.array(test_labels_encoded1)"
      ],
      "metadata": {
        "id": "XcQL9FMyMBmF"
      },
      "execution_count": null,
      "outputs": []
    },
    {
      "cell_type": "code",
      "source": [
        "# Creating a confusion matrix\n",
        "cm = confusion_matrix(true_labels, predicted_labels)\n",
        "\n",
        "cm1 = confusion_matrix(true_labels, predicted_labels1)"
      ],
      "metadata": {
        "id": "ln5FXKqLgKIe"
      },
      "execution_count": null,
      "outputs": []
    },
    {
      "cell_type": "code",
      "source": [
        "# Convert the confusion matrix to a pandas DataFrame\n",
        "cm_df = pd.DataFrame(cm, index=label_encoder.classes_, columns=label_encoder.classes_)\n",
        "\n",
        "# Display the confusion matrix as a table\n",
        "print(\"Confusion Matrix:\")\n",
        "print(cm_df)"
      ],
      "metadata": {
        "id": "eaJeipzAANw1",
        "outputId": "2f3426e1-904a-4a76-e7ef-76102f77255f",
        "colab": {
          "base_uri": "https://localhost:8080/"
        }
      },
      "execution_count": null,
      "outputs": [
        {
          "output_type": "stream",
          "name": "stdout",
          "text": [
            "Confusion Matrix:\n",
            "     10   11   12   13   14   15   16   17   18   19   20\n",
            "10  320   16    0    0    0    0    0    0    0    0    0\n",
            "11    4  392    0    0    0    0    0    0    0    0    0\n",
            "12    0    2  640    5    1    1    2    0    0    2    0\n",
            "13    0    0    4  553    1    0    0    0    0    0    0\n",
            "14    0    0    1    0  426   11    0    0    0    1    2\n",
            "15    0    0    0    0   11  282    0    0    0    1    0\n",
            "16    0    2    0    0    0    0  303    0    0    0    0\n",
            "17    5    1    0    0    0    0    1  344    0    3    0\n",
            "18    3    2    1    0    0    0    1    1  329    0   12\n",
            "19    1    0    0    0    0    0    0    0    1  302    4\n",
            "20    0    1    0    0    2    0    0    0    0    3  459\n"
          ]
        }
      ]
    },
    {
      "cell_type": "code",
      "source": [
        "# Convert the confusion matrix to a pandas DataFrame\n",
        "cm_df1 = pd.DataFrame(cm1, index=label_encoder.classes_, columns=label_encoder.classes_)\n",
        "\n",
        "# Display the confusion matrix as a table\n",
        "print(\"Confusion Matrix:\")\n",
        "print(cm_df1)"
      ],
      "metadata": {
        "colab": {
          "base_uri": "https://localhost:8080/"
        },
        "id": "7jaC38yxNMRW",
        "outputId": "3d5dc2aa-8a32-4530-d7b5-a20ac6ef4e58"
      },
      "execution_count": null,
      "outputs": [
        {
          "output_type": "stream",
          "name": "stdout",
          "text": [
            "Confusion Matrix:\n",
            "     10   11   12   13   14   15   16   17   18   19   20\n",
            "10  318   14    0    0    0    0    1    2    0    0    1\n",
            "11    4  392    0    0    0    0    0    0    0    0    0\n",
            "12    0    1  643    4    1    0    1    0    0    0    3\n",
            "13    0    1    4  551    0    0    0    0    0    0    2\n",
            "14    0    0    0    3  384   15    0    0    2    2   35\n",
            "15    0    0    0    0    7  282    1    1    1    1    1\n",
            "16    0    2    0    0    0    0  303    0    0    0    0\n",
            "17    5    0    0    0    1    0    0  341    2    3    2\n",
            "18    1    0    0    1    0    1    1    0  336    0    9\n",
            "19    1    0    0    0    0    0    0    0    0  301    6\n",
            "20    0    0    0    0    0    0    0    0    0    2  463\n"
          ]
        }
      ]
    },
    {
      "cell_type": "code",
      "source": [
        "# Generate the classification report\n",
        "report = classification_report(true_labels, predicted_labels, target_names=label_encoder.classes_)\n",
        "\n",
        "# Generate the classification report\n",
        "report1 = classification_report(true_labels, predicted_labels1, target_names=label_encoder.classes_)"
      ],
      "metadata": {
        "id": "MW5T7lA1g2Lc"
      },
      "execution_count": null,
      "outputs": []
    },
    {
      "cell_type": "code",
      "source": [
        "# Print the classification report\n",
        "print(report)"
      ],
      "metadata": {
        "colab": {
          "base_uri": "https://localhost:8080/"
        },
        "id": "mrVPAfuFhDKf",
        "outputId": "76ae0939-8a6a-47e2-e9d5-5ebc4a373e7c"
      },
      "execution_count": null,
      "outputs": [
        {
          "output_type": "stream",
          "name": "stdout",
          "text": [
            "              precision    recall  f1-score   support\n",
            "\n",
            "          10       0.96      0.95      0.96       336\n",
            "          11       0.94      0.99      0.97       396\n",
            "          12       0.99      0.98      0.99       653\n",
            "          13       0.99      0.99      0.99       558\n",
            "          14       0.97      0.97      0.97       441\n",
            "          15       0.96      0.96      0.96       294\n",
            "          16       0.99      0.99      0.99       305\n",
            "          17       1.00      0.97      0.98       354\n",
            "          18       1.00      0.94      0.97       349\n",
            "          19       0.97      0.98      0.97       308\n",
            "          20       0.96      0.99      0.97       465\n",
            "\n",
            "    accuracy                           0.98      4459\n",
            "   macro avg       0.97      0.97      0.97      4459\n",
            "weighted avg       0.98      0.98      0.98      4459\n",
            "\n"
          ]
        }
      ]
    },
    {
      "cell_type": "code",
      "source": [
        "# Print the classification report\n",
        "print(report1)"
      ],
      "metadata": {
        "colab": {
          "base_uri": "https://localhost:8080/"
        },
        "id": "pwvIC43DN42l",
        "outputId": "eaf205a3-b4cc-4d21-fe94-f77809a607a1"
      },
      "execution_count": null,
      "outputs": [
        {
          "output_type": "stream",
          "name": "stdout",
          "text": [
            "              precision    recall  f1-score   support\n",
            "\n",
            "          10       0.97      0.95      0.96       336\n",
            "          11       0.96      0.99      0.97       396\n",
            "          12       0.99      0.98      0.99       653\n",
            "          13       0.99      0.99      0.99       558\n",
            "          14       0.98      0.87      0.92       441\n",
            "          15       0.95      0.96      0.95       294\n",
            "          16       0.99      0.99      0.99       305\n",
            "          17       0.99      0.96      0.98       354\n",
            "          18       0.99      0.96      0.97       349\n",
            "          19       0.97      0.98      0.98       308\n",
            "          20       0.89      1.00      0.94       465\n",
            "\n",
            "    accuracy                           0.97      4459\n",
            "   macro avg       0.97      0.97      0.97      4459\n",
            "weighted avg       0.97      0.97      0.97      4459\n",
            "\n"
          ]
        }
      ]
    }
  ],
  "metadata": {
    "accelerator": "GPU",
    "colab": {
      "provenance": []
    },
    "kernelspec": {
      "display_name": "Python 3 (ipykernel)",
      "language": "python",
      "name": "python3"
    },
    "language_info": {
      "codemirror_mode": {
        "name": "ipython",
        "version": 3
      },
      "file_extension": ".py",
      "mimetype": "text/x-python",
      "name": "python",
      "nbconvert_exporter": "python",
      "pygments_lexer": "ipython3",
      "version": "3.10.9"
    }
  },
  "nbformat": 4,
  "nbformat_minor": 0
}